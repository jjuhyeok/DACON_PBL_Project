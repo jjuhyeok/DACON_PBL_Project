{
  "cells": [
    {
      "cell_type": "code",
      "execution_count": null,
      "metadata": {
        "id": "vArBR6-xcwUF"
      },
      "outputs": [],
      "source": [
        "#hiddencell"
      ]
    },
    {
      "cell_type": "markdown",
      "metadata": {
        "id": "BOtTZbb7ctuA"
      },
      "source": [
        "# Stage 5"
      ]
    },
    {
      "cell_type": "markdown",
      "metadata": {
        "id": "MQb2yDAX3jLN"
      },
      "source": [
        "# 1. 데이터 불러오기\n",
        "\n",
        "[문제 1]  \n",
        "CSV파일을 데이터프레임(DataFrame)형태로 불러와 봅시다."
      ]
    },
    {
      "cell_type": "code",
      "execution_count": null,
      "metadata": {
        "id": "Q-1W_Gxp3jLN"
      },
      "outputs": [],
      "source": [
        "import ___ as pd\n",
        "\n",
        "train = ___.___('train.csv')\n",
        "test = ___.___('test.csv')\n",
        "submission = ___.___('sample_submission.csv')"
      ]
    },
    {
      "cell_type": "code",
      "execution_count": null,
      "metadata": {
        "id": "0X_HK7t_3jLO"
      },
      "outputs": [],
      "source": [
        "#checkcode\n",
        "\n",
        "\n",
        "\n",
        "아직 작설 ㅌ "
      ]
    },
    {
      "cell_type": "markdown",
      "metadata": {
        "id": "-3u7kFI-3jLO"
      },
      "source": [
        "### Inst.\n",
        "\n",
        "라이브러리를 이용해 CSV를 데이터프레임으로 불러요"
      ]
    },
    {
      "cell_type": "markdown",
      "metadata": {
        "id": "LSOSTh8p3jLO"
      },
      "source": [
        "### Hint.\n",
        "DataFrame은 pandas 라이브러리를 불러와 사용 할 수 있어요  \n",
        "pandas는 CSV파일을 불러올 수 있는 read_csv 함수를 제공해줘요."
      ]
    },
    {
      "cell_type": "markdown",
      "metadata": {
        "id": "x4bcxD6n3jLO",
        "tags": []
      },
      "source": [
        "### Solution.\n",
        "import pandas as pd\n",
        "\n",
        "train = pd.read_csv('train.csv')  \n",
        "test = pd.read_csv('test.csv')  \n",
        "submission = pd.read_csv('sample_submission.csv')  "
      ]
    },
    {
      "cell_type": "markdown",
      "metadata": {
        "id": "Ay8FE07xI7DA"
      },
      "source": [
        "# 2. 데이터 전처리 실습\n",
        "\n",
        "[문제2]\n",
        "\n",
        "Label Encoding을 사용해서 범주형 변수를 수치형 변수로 바꿔보아요."
      ]
    },
    {
      "cell_type": "code",
      "execution_count": null,
      "metadata": {
        "id": "eowOd9RXI7DB"
      },
      "outputs": [],
      "source": [
        "from sklearn.preprocessing import LabelEncoder\n",
        "\n",
        "encoder = ___\n",
        "train['Position'] = ___.___(train['Position'].values.reshape(-1,1))\n",
        "test['Position'] = ___.___(test['Position'].values.reshape(-1,1))"
      ]
    },
    {
      "cell_type": "code",
      "execution_count": null,
      "metadata": {
        "id": "lJOGHDEoI7DB"
      },
      "outputs": [],
      "source": [
        "#checkcode\n",
        "#empty"
      ]
    },
    {
      "cell_type": "markdown",
      "metadata": {
        "id": "KiZ0nFaQI7DB"
      },
      "source": [
        "### Inst.\n",
        "\n",
        "scikit-learn 라이브러리의 LabelEncoding 메소드를 사용해서 범주형 변수를 수치형 변수로 바꿔보아요."
      ]
    },
    {
      "cell_type": "markdown",
      "metadata": {
        "id": "2l5dEyk9I7DB"
      },
      "source": [
        "### Hint.\n",
        "fit_transform과 transform을 구분하는 이유를 잊지 않으셨죠?"
      ]
    },
    {
      "cell_type": "markdown",
      "metadata": {
        "id": "z5y8wtH1I7DB",
        "tags": []
      },
      "source": [
        "### Solution.\n",
        "from sklearn.preprocessing import LabelEncoder\n",
        "\n",
        "encoder = LabelEncoder()\n",
        "train['Position'] = encoder.fit_transform(train['Position'].values.reshape(-1,1))\n",
        "test['Position'] = encoder.transform(test['Position'].values.reshape(-1,1))"
      ]
    },
    {
      "cell_type": "markdown",
      "metadata": {
        "id": "meWJK871LHdk"
      },
      "source": [
        "# 3. X와 Y변수로 나누기 실습\n",
        "\n",
        "[문제3]\n",
        "\n",
        "train 데이터를 train_x와 train_y로 나누어 보아요."
      ]
    },
    {
      "cell_type": "code",
      "execution_count": null,
      "metadata": {
        "id": "g5ZzJvJdLHdk"
      },
      "outputs": [],
      "source": [
        "train_x = train.___(['Prospect'],axis = ___)\n",
        "train_y = train.___"
      ]
    },
    {
      "cell_type": "code",
      "execution_count": null,
      "metadata": {
        "id": "DaeAQFTJLHdl"
      },
      "outputs": [],
      "source": [
        "#checkcode\n",
        "#empty\n"
      ]
    },
    {
      "cell_type": "markdown",
      "metadata": {
        "id": "cKhbl2nDLHdl"
      },
      "source": [
        "### Inst.\n",
        "\n",
        "모델 학습을 하기 위해 X 변수와 Y 변수로 데이터를 나누어 보아요. <Br>"
      ]
    },
    {
      "cell_type": "markdown",
      "metadata": {
        "id": "XtDYWCSpLHdl"
      },
      "source": [
        "### Hint.\n",
        "drop 메소드를 이용해요"
      ]
    },
    {
      "cell_type": "markdown",
      "metadata": {
        "id": "NLhoPpQqLHdl",
        "tags": []
      },
      "source": [
        "### Solution.\n",
        "train_x = train.drop(['Prospect'],axis = ___)\n",
        "train_y = train.['Prospect']"
      ]
    },
    {
      "cell_type": "markdown",
      "source": [
        "# 4. 모델 학습 실습\n",
        "\n",
        "[문제4]\n",
        "\n",
        "scikit learn 라이브러리의 Logistic Regression 모델을 사용해서 train_x,train_y를 학습해 보세요."
      ],
      "metadata": {
        "id": "iBgouw_tuTSd"
      }
    },
    {
      "cell_type": "code",
      "source": [
        "from sklearn.linear_model import LogisticRegression\n",
        "\n",
        "model = ___\n",
        "model.___(train_x, train_y)"
      ],
      "metadata": {
        "id": "TAn6z1P2uWuh"
      },
      "execution_count": null,
      "outputs": []
    },
    {
      "cell_type": "code",
      "source": [
        "#checkcode\n",
        "#empty"
      ],
      "metadata": {
        "id": "m2aSmDUZuXWU"
      },
      "execution_count": null,
      "outputs": []
    },
    {
      "cell_type": "markdown",
      "source": [
        "### Inst.\n",
        "\n",
        "Logistic Regression 모델을 사용해 학습을 진행해 봅시다."
      ],
      "metadata": {
        "id": "6lg62ODguYS1"
      }
    },
    {
      "cell_type": "markdown",
      "source": [
        "### Hint.\n",
        "학습은 fit !"
      ],
      "metadata": {
        "id": "oElSwOjD3wVB"
      }
    },
    {
      "cell_type": "markdown",
      "source": [
        "### Solution.\n",
        "from sklearn.linear_model import LogisticRegression\n",
        "\n",
        "model = LogisticRegression()\n",
        "model.fit(train_x, train_y)"
      ],
      "metadata": {
        "id": "zQT3ZR2D3m3K"
      }
    },
    {
      "cell_type": "markdown",
      "metadata": {
        "id": "m-cjrZXoOo1o"
      },
      "source": [
        "# 5. 모델 예측 실습\n",
        "\n",
        "[문제5]\n",
        "\n",
        "학습시킨 모델을 이용해 test 데이터를 예측해 보세요."
      ]
    },
    {
      "cell_type": "code",
      "source": [
        "y_pred = model.___(test)"
      ],
      "metadata": {
        "id": "e1gkkO9qrmxn"
      },
      "execution_count": null,
      "outputs": []
    },
    {
      "cell_type": "code",
      "execution_count": null,
      "metadata": {
        "id": "stV6SwXxOo1t"
      },
      "outputs": [],
      "source": [
        "#checkcode\n",
        "#empty"
      ]
    },
    {
      "cell_type": "markdown",
      "metadata": {
        "id": "vjKRRE2VOo1t"
      },
      "source": [
        "### Inst.\n",
        "\n",
        "Logistic Regression 모델을 사용해 예측을 진행해 봅시다."
      ]
    },
    {
      "cell_type": "markdown",
      "metadata": {
        "id": "KxFQIKfOOo1t"
      },
      "source": [
        "### Hint.\n",
        "예측은 predict!"
      ]
    },
    {
      "cell_type": "markdown",
      "metadata": {
        "id": "2bHZGbiAOo1t",
        "tags": []
      },
      "source": [
        "### Solution.\n",
        "y_pred = model.predict(test)"
      ]
    },
    {
      "cell_type": "markdown",
      "metadata": {
        "id": "UU8PiIdSOyyJ"
      },
      "source": [
        "# 6. 예측 결과 저장\n",
        "\n",
        "[문제6]\n",
        "\n",
        "예측한 결과인 y_pred를 submission 파일에 입력 후 csv 형태로 저장해 보세요."
      ]
    },
    {
      "cell_type": "code",
      "execution_count": null,
      "metadata": {
        "id": "yXSHAMo7OyyJ"
      },
      "outputs": [],
      "source": [
        "submission['Prospect'] = ___\n",
        "\n",
        "submission.___('submit.csv',index = ___)"
      ]
    },
    {
      "cell_type": "code",
      "execution_count": null,
      "metadata": {
        "id": "_45OUXABOyyK"
      },
      "outputs": [],
      "source": [
        "#checkcode\n",
        "#empty"
      ]
    },
    {
      "cell_type": "markdown",
      "metadata": {
        "id": "iUO2iNbEOyyK"
      },
      "source": [
        "### Inst.\n",
        "\n",
        "예측 결과를 저장해 봅시다."
      ]
    },
    {
      "cell_type": "markdown",
      "metadata": {
        "id": "ulNUqg2VOyyK"
      },
      "source": [
        "### Hint.\n",
        "인덱스 설정은 필요 없어요!"
      ]
    },
    {
      "cell_type": "markdown",
      "metadata": {
        "id": "6JaspM2IOyyK",
        "tags": []
      },
      "source": [
        "### Solution.\n",
        "submission['Prospect'] = y_pred\n",
        "\n",
        "submission.to_csv('submit.csv',index = False)"
      ]
    }
  ],
  "metadata": {
    "colab": {
      "provenance": []
    },
    "kernelspec": {
      "display_name": "Python 3",
      "name": "python3"
    },
    "language_info": {
      "name": "python"
    }
  },
  "nbformat": 4,
  "nbformat_minor": 0
}