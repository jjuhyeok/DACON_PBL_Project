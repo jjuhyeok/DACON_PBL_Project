{
  "cells": [
    {
      "cell_type": "code",
      "execution_count": null,
      "metadata": {
        "id": "vArBR6-xcwUF"
      },
      "outputs": [],
      "source": [
        "#hiddencell"
      ]
    },
    {
      "cell_type": "markdown",
      "metadata": {
        "id": "BOtTZbb7ctuA"
      },
      "source": [
        "# Stage 5"
      ]
    },
    {
      "cell_type": "markdown",
      "metadata": {
        "id": "MQb2yDAX3jLN"
      },
      "source": [
        "# 1. 데이터 불러오기\n",
        "\n",
        "[문제 1]  \n",
        "CSV파일을 데이터프레임(DataFrame)형태로 불러와 봅시다."
      ]
    },
    {
      "cell_type": "code",
      "execution_count": null,
      "metadata": {
        "id": "Q-1W_Gxp3jLN"
      },
      "outputs": [],
      "source": [
        "import ___ as ___\n",
        "\n",
        "train = pd.___('train.csv')\n",
        "test = pd.___('test.csv')\n",
        "submission = pd.___('sample_submission.csv')"
      ]
    },
    {
      "cell_type": "code",
      "execution_count": null,
      "metadata": {
        "id": "0X_HK7t_3jLO"
      },
      "outputs": [],
      "source": [
        "#checkcode\n",
        "\n",
        "\n",
        "\n",
        "아직 작설 ㅌ "
      ]
    },
    {
      "cell_type": "markdown",
      "metadata": {
        "id": "-3u7kFI-3jLO"
      },
      "source": [
        "### Inst.\n",
        "\n",
        "라이브러리를 이용해 CSV를 데이터프레임으로 불러요"
      ]
    },
    {
      "cell_type": "markdown",
      "metadata": {
        "id": "LSOSTh8p3jLO"
      },
      "source": [
        "### Hint.\n",
        "DataFrame은 pandas 라이브러리를 불러와 사용 할 수 있어요  \n",
        "pandas는 CSV파일을 불러올 수 있는 read_csv 함수를 제공해줘요."
      ]
    },
    {
      "cell_type": "markdown",
      "metadata": {
        "id": "x4bcxD6n3jLO",
        "tags": []
      },
      "source": [
        "### Solution.\n",
        "import pandas as pd\n",
        "\n",
        "train = pd.read_csv('train.csv')  \n",
        "test = pd.read_csv('test.csv')  \n",
        "submission = pd.read_csv('sample_submission.csv')  "
      ]
    },
    {
      "cell_type": "markdown",
      "metadata": {
        "id": "Ay8FE07xI7DA"
      },
      "source": [
        "# 2. 데이터 상관관계 확인"
      ]
    },
    {
      "cell_type": "code",
      "execution_count": null,
      "metadata": {
        "id": "eowOd9RXI7DB"
      },
      "outputs": [],
      "source": [
        "train.corr()"
      ]
    },
    {
      "cell_type": "code",
      "execution_count": null,
      "metadata": {
        "id": "lJOGHDEoI7DB"
      },
      "outputs": [],
      "source": [
        "#checkcode\n",
        "#empty"
      ]
    },
    {
      "cell_type": "markdown",
      "metadata": {
        "id": "KiZ0nFaQI7DB"
      },
      "source": [
        "### Inst.\n",
        "\n",
        "데이터 분석에서 상관관계(correlation)를 확인하는 이유는 다양합니다. <Br>\n",
        "\n",
        "먼저, 변수들 사이의 상관관계를 파악함으로써, 데이터의 패턴과 관계성을 파악할 수 있습니다. <Br>\n",
        "\n",
        "예를 들어, 키와 몸무게라는 두 변수가 양의 상관관계를 가진다면, 키가 커질수록 몸무게도 커지는 경향이 있다는 것을 알 수 있습니다. <Br>\n",
        "\n",
        "이를 통해 키와 몸무게 간의 관계를 이해하고, 이를 활용해 예측 모델을 만들거나, 키와 몸무게 간의 인과관계를 찾는데 도움을 줄 수 있습니다.<Br>\n",
        "\n",
        "또한, 상관관계는 변수 선택(feature selection)에도 중요한 역할을 합니다. <Br>\n",
        "\n",
        "변수가 많은 데이터에서는 변수 선택을 통해 모델의 성능을 높일 수 있습니다. <Br>\n",
        "\n",
        "상관관계가 높은 변수들은 서로 유사한 정보를 담고 있을 가능성이 높기 때문에, 이러한 변수들 중 하나를 선택하거나, 새로운 변수를 생성해줄 필요가 있을 수 있습니다.<Br>\n",
        "\n",
        "또한, 상관관계는 다중공선성(multicollinearity)을 확인하는 데도 사용됩니다. <Br>\n",
        "\n",
        "다중공선성이란, 두 변수 사이에 강한 상관관계가 있어, 회귀분석 모델에서 오류가 발생할 수 있는 현상을 의미합니다. 이를 파악하여 모델을 개선할 수 있습니다."
      ]
    },
    {
      "cell_type": "markdown",
      "metadata": {
        "id": "2l5dEyk9I7DB"
      },
      "source": [
        "### Hint.\n",
        "empty"
      ]
    },
    {
      "cell_type": "markdown",
      "metadata": {
        "id": "z5y8wtH1I7DB",
        "tags": []
      },
      "source": [
        "### Solution.\n",
        "empty"
      ]
    },
    {
      "cell_type": "markdown",
      "metadata": {
        "id": "meWJK871LHdk"
      },
      "source": [
        "# 3. 데이터 상관관계 히트맵"
      ]
    },
    {
      "cell_type": "code",
      "execution_count": null,
      "metadata": {
        "id": "g5ZzJvJdLHdk"
      },
      "outputs": [],
      "source": [
        "import seaborn as sns\n",
        "import matplotlib.pyplot as plt\n",
        "sns.heatmap(train.corr(), annot=True, cmap='coolwarm')\n",
        "plt.show()"
      ]
    },
    {
      "cell_type": "code",
      "execution_count": null,
      "metadata": {
        "id": "DaeAQFTJLHdl"
      },
      "outputs": [],
      "source": [
        "#checkcode\n",
        "#empty\n"
      ]
    },
    {
      "cell_type": "markdown",
      "metadata": {
        "id": "cKhbl2nDLHdl"
      },
      "source": [
        "### Inst.\n",
        "\n",
        "전 셀에서 확인했던 상관관계를 시각화를 통해 확인도 가능해요 <Br>\n",
        "\n",
        "matplotlib과 seaborn 라이브러리는 전 Stage에서 실습했던 기억을 잊지 않았죠? <Br>"
      ]
    },
    {
      "cell_type": "markdown",
      "metadata": {
        "id": "XtDYWCSpLHdl"
      },
      "source": [
        "### Hint.\n",
        "empty"
      ]
    },
    {
      "cell_type": "markdown",
      "metadata": {
        "id": "NLhoPpQqLHdl",
        "tags": []
      },
      "source": [
        "### Solution.\n",
        "empty"
      ]
    },
    {
      "cell_type": "markdown",
      "source": [
        "# 4. Dummies 알아보기"
      ],
      "metadata": {
        "id": "iBgouw_tuTSd"
      }
    },
    {
      "cell_type": "code",
      "source": [
        "import pandas as pd\n",
        "\n",
        "dummies = pd.get_dummies(train['Position'], prefix='Position')\n",
        "train = pd.concat([train, dummies], axis=1)"
      ],
      "metadata": {
        "id": "TAn6z1P2uWuh"
      },
      "execution_count": null,
      "outputs": []
    },
    {
      "cell_type": "code",
      "source": [
        "#checkcode\n",
        "#empty"
      ],
      "metadata": {
        "id": "m2aSmDUZuXWU"
      },
      "execution_count": null,
      "outputs": []
    },
    {
      "cell_type": "markdown",
      "source": [
        "### Inst.\n",
        "\n",
        "전 Stage에서 모델이 범주형 피처들은 인식하지 못해 drop을 시키고 학습을 진행했어요 <Br>\n",
        "\n",
        "대부분의 머신러닝 모델은 수치형 데이터만 처리할 수 있기 때문에, 범주형 데이터를 수치형 데이터로 변환하여 모델에 입력하게 됩니다. <Br>\n",
        "\n",
        "이번 셀에서는 이 범주형 피처들도 모델이 학습할 수 있도록 데이터 형태를 바꿔주는 get_dummies에 대해 알아봐요 <Br>\n",
        "\n",
        "get_dummies는 범주형 변수가 가질 수 있는 모든 가능한 값을 열로 만들고, 해당 값이 발생한 경우에는 1, 발생하지 않은 경우에는 0으로 표시하는 이진 벡터를 생성합니다.  <Br>\n",
        "\n",
        "이를 통해 기존 변수에 순서와 관계성을 부여하지 않고, 독립적인 변수로 변환하여 분석에 활용할 수 있습니다. <Br>\n",
        "\n",
        "prefix 인자는 생성된 더미 변수들의 이름에 접두사를 붙이는 옵션입니다. <BR>\n",
        "\n",
        "prefix='Position'으로 설정하면 새로운 컬럼들의 이름이 Position_으로 시작합니다. <Br>"
      ],
      "metadata": {
        "id": "6lg62ODguYS1"
      }
    },
    {
      "cell_type": "markdown",
      "source": [
        "### Hint.\n",
        "empty"
      ],
      "metadata": {
        "id": "XiYpBg-t3oV7"
      }
    },
    {
      "cell_type": "markdown",
      "source": [
        "### Solution.\n",
        "empty"
      ],
      "metadata": {
        "id": "ulFe6Li73oph"
      }
    },
    {
      "cell_type": "markdown",
      "metadata": {
        "id": "m-cjrZXoOo1o"
      },
      "source": [
        "# 5. One-Hot Encoding"
      ]
    },
    {
      "cell_type": "code",
      "source": [
        "from sklearn.preprocessing import OneHotEncoder\n",
        "\n",
        "encoder = OneHotEncoder()\n",
        "\n",
        "one_hot_encoded = encoder.fit_transform(train['Position'].values.reshape(-1,1))\n",
        "train = pd.concat([train.drop(['Position'],axis=1), one_hot_encoded], axis=1)\n",
        "\n",
        "one_hot_encoded = encoder.transform(test['Position'].values.reshape(-1,1)).toarray()\n",
        "test = pd.concat([test.drop(['Position'],axis=1), one_hot_encoded], axis=1)"
      ],
      "metadata": {
        "id": "e1gkkO9qrmxn"
      },
      "execution_count": null,
      "outputs": []
    },
    {
      "cell_type": "code",
      "execution_count": null,
      "metadata": {
        "id": "stV6SwXxOo1t"
      },
      "outputs": [],
      "source": [
        "#checkcode\n",
        "#empty"
      ]
    },
    {
      "cell_type": "markdown",
      "metadata": {
        "id": "vjKRRE2VOo1t"
      },
      "source": [
        "### Inst.\n",
        "\n",
        "이번 셀에서는 get_dummies와 같은 역할인 데이터 형태를 바꿔주는 One-Hot Encoding을 알아 봅시다.<Br>\n",
        "\n",
        "One-hot encoding은 범주형 변수를 수치형 변수로 변환하는 또 다른 방법 중 하나입니다. <Br> \n",
        "\n",
        "train 데이터셋에는 fit_transform 메소드를, test 데이터셋에는 transform 메소드를 적용해야 한다는 사실은 잊지 마세요. <Br>\n",
        "\n",
        "Training dataset에서는 fit_transform() 함수를 사용하여 encoding을 수행하고, test dataset에서는 학습한 정보를 그대로 사용하여 transform() 함수를 사용하여 encoding을 수행합니다. <Br>\n",
        "\n",
        "이는 test dataset에서는 새로운 범주값이 나타날 수 있기 때문에, training dataset에서 사용한 범주값만 encoding하도록 하기 위해서입니다.  <Br>\n",
        "\n",
        "만약 test dataset에서 training dataset과 다른 범주값이 나타난다면, 그 범주값에 대한 정보가 없기 때문에 encoding을 수행할 수 없습니다.  <Br>\n",
        "\n",
        "이러한 상황을 방지하기 위해, training dataset에서 사용된 범주값만 encoding하도록 하는 것이 일반적인 방법입니다. <Br>\n",
        "\n",
        "이 방법은 범주형 변수가 가질 수 있는 모든 가능한 값을 열로 만들고, 해당 값이 발생한 경우에는 1, 발생하지 않은 경우에는 0으로 표시하는 이진 벡터를 생성합니다. <Br>\n",
        "\n",
        "One-hot encoding은 다른 머신러닝 모델에서도 널리 사용됩니다. <Br>\n",
        "\n",
        "또한, 범주형 변수의 값이 순서나 크기를 가지지 않는 경우에 적합합니다. <Br>\n",
        "\n",
        "범주형 변수가 순서를 가지는 경우에는 순서를 고려할 수 있는 다른 방법인 Label-Encoding이 있습니다. <Br>"
      ]
    },
    {
      "cell_type": "markdown",
      "metadata": {
        "id": "KxFQIKfOOo1t"
      },
      "source": [
        "### Hint.\n",
        "empty"
      ]
    },
    {
      "cell_type": "markdown",
      "metadata": {
        "id": "2bHZGbiAOo1t",
        "tags": []
      },
      "source": [
        "### Solution.\n",
        "empty"
      ]
    },
    {
      "cell_type": "markdown",
      "metadata": {
        "id": "UU8PiIdSOyyJ"
      },
      "source": [
        "# 6. Label Encoding 실습\n",
        "[문제2]\n",
        "이 전 셀에서는 One-Hot Encoding을 하였는데, 이번에는 Label Encoding을 해봅시다."
      ]
    },
    {
      "cell_type": "code",
      "execution_count": null,
      "metadata": {
        "id": "yXSHAMo7OyyJ"
      },
      "outputs": [],
      "source": [
        "from sklearn.preprocessing import LabelEncoder\n",
        "\n",
        "encoder = ___\n",
        "train['Position'] = ___.fit_transform(train['Position'].values.reshape(-1,1))\n",
        "test['Position'] = ___.transform(test['Position'].values.reshape(-1,1))"
      ]
    },
    {
      "cell_type": "code",
      "execution_count": null,
      "metadata": {
        "id": "_45OUXABOyyK"
      },
      "outputs": [],
      "source": [
        "#checkcode\n",
        "#empty"
      ]
    },
    {
      "cell_type": "markdown",
      "metadata": {
        "id": "iUO2iNbEOyyK"
      },
      "source": [
        "### Inst.\n",
        "\n",
        "Label encoding은 범주형 변수를 수치형으로 변환하는 또 다른 방법이에요. <Br>\n",
        "\n",
        "각 범주형 변수의 고유한 값을 정수로 매핑하는 것입니다. <Br>\n",
        "\n",
        "예를 들어, \"red\", \"green\", \"blue\"와 같은 세 가지 색상 값을 가진 범주형 변수가 있다고 가정해보겠습니다.  <Br>\n",
        "\n",
        "Label encoding을 사용하면 \"red\"는 1, \"green\"은 2, \"blue\"는 3과 같은 정수 값으로 변환됩니다. <Br>\n",
        "\n",
        "Label encoding은 간단하게 적용할 수 있지만, 이 방법으로 인코딩된 변수의 값 사이에 순서나 거리 등의 의미를 부여하는 것은 적절하지 않습니다.  <Br>\n",
        "\n",
        "그리고 머신러닝 모델은 수치적 차이를 가지는 변수에서 더 좋은 예측 성능을 보이는 경우가 많습니다.  <Br>\n",
        "\n",
        "따라서 범주형 변수를 처리할 때는 one-hot encoding 등 다른 방법을 사용하는 것이 더 적절할 수 있습니다. <Br>"
      ]
    },
    {
      "cell_type": "markdown",
      "metadata": {
        "id": "ulNUqg2VOyyK"
      },
      "source": [
        "### Hint.\n",
        "One-Hot Encoding과 똑같은 구조에요"
      ]
    },
    {
      "cell_type": "markdown",
      "metadata": {
        "id": "6JaspM2IOyyK",
        "tags": []
      },
      "source": [
        "### Solution.\n",
        "from sklearn.preprocessing import LabelEncoder\n",
        "\n",
        "encoder = LabelEncoder()\n",
        "train['Position'] = encoder.fit_transform(train['Position'].values.reshape(-1,1))\n",
        "test['Position'] = encoder.transform(test['Position'].values.reshape(-1,1))"
      ]
    }
  ],
  "metadata": {
    "colab": {
      "provenance": []
    },
    "kernelspec": {
      "display_name": "Python 3",
      "name": "python3"
    },
    "language_info": {
      "name": "python"
    }
  },
  "nbformat": 4,
  "nbformat_minor": 0
}