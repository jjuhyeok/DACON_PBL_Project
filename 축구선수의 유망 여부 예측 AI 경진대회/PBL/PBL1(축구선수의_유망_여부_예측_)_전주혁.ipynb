{
  "cells": [
    {
      "cell_type": "code",
      "execution_count": null,
      "id": "gl-lzxlgnvJY",
      "metadata": {
        "id": "gl-lzxlgnvJY"
      },
      "outputs": [],
      "source": [
        "#hiddencell"
      ]
    },
    {
      "cell_type": "markdown",
      "id": "a16ca65d-bd20-48d6-8562-c839bc091ec0",
      "metadata": {
        "id": "a16ca65d-bd20-48d6-8562-c839bc091ec0"
      },
      "source": [
        "# Stage 1"
      ]
    },
    {
      "cell_type": "markdown",
      "id": "Z3mcYeIDI7x9",
      "metadata": {
        "id": "Z3mcYeIDI7x9"
      },
      "source": []
    },
    {
      "attachments": {},
      "cell_type": "markdown",
      "id": "7be9b79e-74eb-4594-b98a-3490a41713fa",
      "metadata": {
        "id": "7be9b79e-74eb-4594-b98a-3490a41713fa"
      },
      "source": [
        "# 0. Intro\n",
        "\n",
        "![inner_버스승차인원](https://user-images.githubusercontent.com/75363345/215958968-5bc315d2-cb67-4e13-ba23-4a545a4fc8cf.png)\n",
        "\n",
        "# 이미지는 저작권 문제때문에 아직 손대진 않음\n",
        " \n",
        "\n",
        "### 2022년 카타르 월드컵 대한민국의 16강 진출은 다들 보셨나요?\n",
        "\n",
        "### 월드컵에서 활약한 선수들은 월드컵 전,후로 선수의 가치가 많이 올랐죠\n",
        "\n",
        "### 특히 대한민국에선 조규성 선수가 대표적입니다.\n",
        "\n",
        "### 각 구단에서 나중에 활약을 펼칠 선수들을 미리 예측한다면\n",
        "\n",
        "### 구단의 순위, 재정 모든 방면에서 효율적이겠죠?\n",
        "\n",
        "## 축구 선수 데이터를 이용해 선수가 유망한 선수인지를 판단하는 스카우터 역할의 AI 모델을 만들어 보세요!\n",
        "\n",
        "\n",
        "<p style='text-align: right;'> february, 2023, ver.001 | All rights reserved by Dacon(쥬혁이 / 전주혁)</p>\n",
        "\n",
        "---\n",
        "#### <font color=\"green\">**축구선수의 유망 여부 예측 AI 경진대회**</font>에 참여하신 데이커 여러분, 환영합니다. 🙌\n",
        "\n",
        "### 현재 스포츠 분야에서도 인공지능이 널리 퍼지는 분위기라고 하죠.\n",
        "\n",
        "### 특히 구단 입장에서 유망한 선수들을 예측해 미리 영입한다면\n",
        "\n",
        "### 구단의 성장에 큰 영향을 끼칠 것입니다.\n",
        "\n",
        "### 다 함께 16~21세의 축구선수의 유망 여부를 예측해 볼까요?\n",
        "\n",
        "### 축구공처럼 통통 튀는 아이디어로 데이콘 프로젝트 킥 오프~!\n",
        "\n",
        "\n",
        "\n",
        "# 1.Pandas 라이브러리 불러오기\n",
        "[문제 1]\n",
        "\n",
        "### pandas 라이브러리를 불러오기 위해서 아래 빈칸을 채워주세요.  \n",
        "### 단, pandas는 자주 사용하는 라이브러리이므로 축약어인 `pd` 로 불러와주세요.\n",
        "\n",
        "\n",
        "---\n",
        "#### 라이브러리란?\n",
        "##### 라이브러리는 개발자가 코드를 처음부터 작성할 필요가 없도록 Python 프로그램에 포함시킬 수 있는 자주 사용되는 코드 모음이에요"
      ]
    },
    {
      "cell_type": "code",
      "execution_count": null,
      "id": "c0893bea-8d9f-49ff-80c2-3a376f2e3a34",
      "metadata": {
        "id": "c0893bea-8d9f-49ff-80c2-3a376f2e3a34",
        "tags": []
      },
      "outputs": [],
      "source": [
        "# 데이터를 불러오고 살펴보기 위한 pandas 라이브러리\n",
        "import pandas as pd\n",
        "\n",
        "# train이라는 객체에 'train.csv' 파일을 할당해 줍니다.  \n",
        "train = pd.read_csv('train.csv')\n",
        "\n",
        "# submission이라는 객체에 'sample_submission.csv' 파일을 할당해 줍니다.  \n",
        "submission = pd.read_csv('sample_submission.csv')"
      ]
    },
    {
      "cell_type": "code",
      "execution_count": null,
      "id": "0a3079f3-87c2-42ec-b40f-70397ebd6ec6",
      "metadata": {
        "id": "0a3079f3-87c2-42ec-b40f-70397ebd6ec6"
      },
      "outputs": [],
      "source": [
        "#checkcode\n",
        "#empty"
      ]
    },
    {
      "cell_type": "markdown",
      "id": "bcc0af42-e5d6-493a-a958-07e93a45ebbb",
      "metadata": {
        "id": "bcc0af42-e5d6-493a-a958-07e93a45ebbb"
      },
      "source": [
        "### Inst.\n",
        "분석에 사용할 데이터를 한번 불러와 보겠습니다.    \n",
        "\n",
        "파이썬에서는 `import <라이브러리 이름>` 명령어을 사용해 필요한 라이브러리를 불러옵니다.  \n",
        "`import pandas as pd`에서 as 를 사용한 이유는 자주 사용하는 명령어를 조금 더 쉽게 사용할 수 있도록 라이브러리를 할당하는 역할을 합니다. \n",
        "\n",
        "\n",
        "`import pandas`로 라이브러리를 불러온다면 `pandas.함수명`을 사용하야하는데, 해당 라이브러리를 여러 번 사용해야한다면 오랜 시간이 소요될 수 있습니다.  \n",
        "반면, as를 사용했다면 `pd.함수명`으로도 사용할 수 있기 때문에 편리하게 라이브러리를 활용할 수 있습니다.\n",
        "\n",
        "\n",
        "read_csv() 함수는 ('파일이 있는 위치/파일명.확장자명') 의 형식을 받아 데이터를 불러옵니다.\n",
        "\n",
        "입력되어 있는 코드셀을 확인하고, 실행해 보세요!"
      ]
    },
    {
      "cell_type": "markdown",
      "id": "bfad26fa-93ec-4edf-aecb-6385ed0c67b4",
      "metadata": {
        "id": "bfad26fa-93ec-4edf-aecb-6385ed0c67b4"
      },
      "source": [
        "### Hint.\n",
        "empty"
      ]
    },
    {
      "cell_type": "markdown",
      "id": "832b1ffd-047a-4347-8cd9-334e5ab0149d",
      "metadata": {
        "id": "832b1ffd-047a-4347-8cd9-334e5ab0149d"
      },
      "source": [
        "### Solution.\n",
        "empty"
      ]
    },
    {
      "cell_type": "markdown",
      "id": "51aa041f-690e-4678-82a3-bb909ffdf9ac",
      "metadata": {
        "id": "51aa041f-690e-4678-82a3-bb909ffdf9ac"
      },
      "source": [
        "train.csv 파일과 sample_submission.csv 파일을 train, submission이라는 이름으로 불러왔습니다.\n",
        "\n",
        "[문제 1]  \n",
        "pandas 라이브러리를 사용해\n",
        "\n",
        "test.csv 파일을 직접 불러와 보세요!"
      ]
    },
    {
      "cell_type": "code",
      "execution_count": null,
      "id": "77fac6b3-ddcd-43e3-9244-da39250ee6fd",
      "metadata": {
        "id": "77fac6b3-ddcd-43e3-9244-da39250ee6fd"
      },
      "outputs": [],
      "source": [
        "# test이라는 객체에 'test.csv' 파일을 할당해 줍니다.  \n",
        "test = ___"
      ]
    },
    {
      "cell_type": "code",
      "execution_count": 15,
      "id": "abef2999-402b-44bf-ac16-293d222bbdd1",
      "metadata": {
        "colab": {
          "base_uri": "https://localhost:8080/"
        },
        "id": "abef2999-402b-44bf-ac16-293d222bbdd1",
        "outputId": "b35cda48-04b0-45b1-cb5e-1308a337a190"
      },
      "outputs": [
        {
          "data": {
            "text/plain": [
              "True"
            ]
          },
          "execution_count": 15,
          "metadata": {},
          "output_type": "execute_result"
        }
      ],
      "source": [
        "#checkcode\n",
        "arr = test.columns.to_list()\n",
        "def check(test = test):\n",
        "    if (test.shape == (1626, 65)) and (list(test.columns) == (arr)):\n",
        "        return True\n",
        "    else :\n",
        "        return False\n",
        "\n",
        "check()"
      ]
    },
    {
      "cell_type": "markdown",
      "id": "840054ed-2273-45d7-8cba-5460a0689896",
      "metadata": {
        "id": "840054ed-2273-45d7-8cba-5460a0689896"
      },
      "source": [
        "### Inst.\n",
        "\n",
        "test.csv 파일을 test라는 이름으로 불러오세요!"
      ]
    },
    {
      "cell_type": "markdown",
      "id": "fa53f93b-cdd7-4725-beb6-a050c9e4b80d",
      "metadata": {
        "id": "fa53f93b-cdd7-4725-beb6-a050c9e4b80d"
      },
      "source": [
        "### Hint.\n",
        "read_csv() 메소드를 이용해 봅시다."
      ]
    },
    {
      "cell_type": "markdown",
      "id": "5f12add8-e7d6-4d5c-9de3-e2b76a7483cd",
      "metadata": {
        "id": "5f12add8-e7d6-4d5c-9de3-e2b76a7483cd"
      },
      "source": [
        "### Solution.\n",
        "\n",
        "test = pd.read_csv('test.csv')"
      ]
    },
    {
      "cell_type": "markdown",
      "id": "d80c6d8e-c041-46ea-bc76-b1ec5c676ec8",
      "metadata": {
        "id": "d80c6d8e-c041-46ea-bc76-b1ec5c676ec8"
      },
      "source": [
        "# 2. 데이터 확인\n",
        "\n",
        "이제 pd.read_csv 를 통해 불러온 데이터들이 어떻게 생겼는지 확인해 봐야겠죠?\n",
        "\n",
        "일반적으로 데이터를 확인할 때 **head()**, **info()** 메소드를 활용하는 경우가 많습니다.\n",
        "\n",
        "- head() : 처음 5행 선택    \n",
        "\\* (숫자)를 넣으면 지정 숫자만큼의 행을 선택할 수 있습니다.\n",
        "\n",
        "- info() : 데이터 결측치 및 변수들의 타입 확인\n",
        "\n",
        "데이터를 정렬하여 **이상치나 결측치**와 같은 데이터가 있는지 보기 위함입니다. \n",
        "\n",
        "그럼 데이터가 어떻게 생겼는지 확인해 볼까요?"
      ]
    },
    {
      "cell_type": "code",
      "execution_count": null,
      "id": "a49056df-eb04-44af-8d48-968a4bda2827",
      "metadata": {
        "id": "a49056df-eb04-44af-8d48-968a4bda2827",
        "outputId": "b264e3ba-3b87-4a36-d0f2-16f25f065ca0"
      },
      "outputs": [
        {
          "data": {
            "text/html": [
              "<div>\n",
              "<style scoped>\n",
              "    .dataframe tbody tr th:only-of-type {\n",
              "        vertical-align: middle;\n",
              "    }\n",
              "\n",
              "    .dataframe tbody tr th {\n",
              "        vertical-align: top;\n",
              "    }\n",
              "\n",
              "    .dataframe thead th {\n",
              "        text-align: right;\n",
              "    }\n",
              "</style>\n",
              "<table border=\"1\" class=\"dataframe\">\n",
              "  <thead>\n",
              "    <tr style=\"text-align: right;\">\n",
              "      <th></th>\n",
              "      <th>id</th>\n",
              "      <th>date</th>\n",
              "      <th>route_id</th>\n",
              "      <th>vh_id</th>\n",
              "      <th>route_nm</th>\n",
              "      <th>now_latitude</th>\n",
              "      <th>now_longitude</th>\n",
              "      <th>now_station</th>\n",
              "      <th>now_arrive_time</th>\n",
              "      <th>distance</th>\n",
              "      <th>next_station</th>\n",
              "      <th>next_latitude</th>\n",
              "      <th>next_longitude</th>\n",
              "      <th>next_arrive_time</th>\n",
              "    </tr>\n",
              "  </thead>\n",
              "  <tbody>\n",
              "    <tr>\n",
              "      <th>0</th>\n",
              "      <td>0</td>\n",
              "      <td>2019-10-15</td>\n",
              "      <td>405136001</td>\n",
              "      <td>7997025</td>\n",
              "      <td>360-1</td>\n",
              "      <td>33.456267</td>\n",
              "      <td>126.551750</td>\n",
              "      <td>제주대학교입구</td>\n",
              "      <td>06시</td>\n",
              "      <td>266.0</td>\n",
              "      <td>제대마을</td>\n",
              "      <td>33.457724</td>\n",
              "      <td>126.554014</td>\n",
              "      <td>24</td>\n",
              "    </tr>\n",
              "    <tr>\n",
              "      <th>1</th>\n",
              "      <td>1</td>\n",
              "      <td>2019-10-15</td>\n",
              "      <td>405136001</td>\n",
              "      <td>7997025</td>\n",
              "      <td>360-1</td>\n",
              "      <td>33.457724</td>\n",
              "      <td>126.554014</td>\n",
              "      <td>제대마을</td>\n",
              "      <td>06시</td>\n",
              "      <td>333.0</td>\n",
              "      <td>제대아파트</td>\n",
              "      <td>33.458783</td>\n",
              "      <td>126.557353</td>\n",
              "      <td>36</td>\n",
              "    </tr>\n",
              "    <tr>\n",
              "      <th>2</th>\n",
              "      <td>2</td>\n",
              "      <td>2019-10-15</td>\n",
              "      <td>405136001</td>\n",
              "      <td>7997025</td>\n",
              "      <td>360-1</td>\n",
              "      <td>33.458783</td>\n",
              "      <td>126.557353</td>\n",
              "      <td>제대아파트</td>\n",
              "      <td>06시</td>\n",
              "      <td>415.0</td>\n",
              "      <td>제주대학교</td>\n",
              "      <td>33.459893</td>\n",
              "      <td>126.561624</td>\n",
              "      <td>40</td>\n",
              "    </tr>\n",
              "    <tr>\n",
              "      <th>3</th>\n",
              "      <td>3</td>\n",
              "      <td>2019-10-15</td>\n",
              "      <td>405136001</td>\n",
              "      <td>7997025</td>\n",
              "      <td>360-1</td>\n",
              "      <td>33.479705</td>\n",
              "      <td>126.543811</td>\n",
              "      <td>남국원(아라방면)</td>\n",
              "      <td>06시</td>\n",
              "      <td>578.0</td>\n",
              "      <td>제주여자중고등학교(아라방면)</td>\n",
              "      <td>33.484860</td>\n",
              "      <td>126.542928</td>\n",
              "      <td>42</td>\n",
              "    </tr>\n",
              "    <tr>\n",
              "      <th>4</th>\n",
              "      <td>4</td>\n",
              "      <td>2019-10-15</td>\n",
              "      <td>405136001</td>\n",
              "      <td>7997025</td>\n",
              "      <td>360-1</td>\n",
              "      <td>33.485662</td>\n",
              "      <td>126.494923</td>\n",
              "      <td>도호동</td>\n",
              "      <td>07시</td>\n",
              "      <td>374.0</td>\n",
              "      <td>은남동</td>\n",
              "      <td>33.485822</td>\n",
              "      <td>126.490897</td>\n",
              "      <td>64</td>\n",
              "    </tr>\n",
              "  </tbody>\n",
              "</table>\n",
              "</div>"
            ],
            "text/plain": [
              "   id        date   route_id    vh_id route_nm  now_latitude  now_longitude  \\\n",
              "0   0  2019-10-15  405136001  7997025    360-1     33.456267     126.551750   \n",
              "1   1  2019-10-15  405136001  7997025    360-1     33.457724     126.554014   \n",
              "2   2  2019-10-15  405136001  7997025    360-1     33.458783     126.557353   \n",
              "3   3  2019-10-15  405136001  7997025    360-1     33.479705     126.543811   \n",
              "4   4  2019-10-15  405136001  7997025    360-1     33.485662     126.494923   \n",
              "\n",
              "  now_station now_arrive_time  distance     next_station  next_latitude  \\\n",
              "0     제주대학교입구             06시     266.0             제대마을      33.457724   \n",
              "1        제대마을             06시     333.0            제대아파트      33.458783   \n",
              "2       제대아파트             06시     415.0            제주대학교      33.459893   \n",
              "3   남국원(아라방면)             06시     578.0  제주여자중고등학교(아라방면)      33.484860   \n",
              "4         도호동             07시     374.0              은남동      33.485822   \n",
              "\n",
              "   next_longitude  next_arrive_time  \n",
              "0      126.554014                24  \n",
              "1      126.557353                36  \n",
              "2      126.561624                40  \n",
              "3      126.542928                42  \n",
              "4      126.490897                64  "
            ]
          },
          "execution_count": 5,
          "metadata": {},
          "output_type": "execute_result"
        }
      ],
      "source": [
        "# 데이터 상위 5개 행 출력\n",
        "train.head()"
      ]
    },
    {
      "cell_type": "code",
      "execution_count": null,
      "id": "20cb9720-5c56-4f2a-b09e-3bf040f1dd76",
      "metadata": {
        "id": "20cb9720-5c56-4f2a-b09e-3bf040f1dd76"
      },
      "outputs": [],
      "source": [
        "#checkcode\n",
        "#empty"
      ]
    },
    {
      "cell_type": "markdown",
      "id": "35b407a6-ae32-4f8c-af05-1e92f8ca87a1",
      "metadata": {
        "id": "35b407a6-ae32-4f8c-af05-1e92f8ca87a1"
      },
      "source": [
        "### Inst.\n",
        ".head( ) 메소드를 사용하면 데이터의 처음 5행을 선택할 수 있습니다.\n",
        "\n",
        "만약 그 이상, 그 이하를 보고 싶다면 () 안의 숫자를 보고싶은 개수로 넣어주면 되어요."
      ]
    },
    {
      "cell_type": "markdown",
      "id": "ad0ff856-d5a6-454c-8bca-580cfd4dc12c",
      "metadata": {
        "id": "ad0ff856-d5a6-454c-8bca-580cfd4dc12c"
      },
      "source": [
        "### Hint.\n",
        "empty"
      ]
    },
    {
      "cell_type": "markdown",
      "id": "ac7dc021-c1cb-46ff-9ae1-d33ec0bb2aab",
      "metadata": {
        "id": "ac7dc021-c1cb-46ff-9ae1-d33ec0bb2aab"
      },
      "source": [
        "### Solution.\n",
        "empty"
      ]
    },
    {
      "cell_type": "markdown",
      "id": "nhEo0yOVJ3gw",
      "metadata": {
        "id": "nhEo0yOVJ3gw"
      },
      "source": [
        "\n",
        "[문제 2]  \n",
        "train 파일을 확인하였으니 이제 test 파일도 확인해볼까요?\n",
        "\n",
        "test 데이터를 8개만 봐보도록 하죠\n",
        "\n",
        "아래 빈칸을 채워주세요."
      ]
    },
    {
      "cell_type": "code",
      "execution_count": null,
      "id": "559cd42f-a3ba-4382-9556-1b8c6523bbd2",
      "metadata": {
        "id": "559cd42f-a3ba-4382-9556-1b8c6523bbd2",
        "outputId": "521b1a10-42e8-4932-a40c-09f5b6c12c02"
      },
      "outputs": [
        {
          "data": {
            "text/html": [
              "<div>\n",
              "<style scoped>\n",
              "    .dataframe tbody tr th:only-of-type {\n",
              "        vertical-align: middle;\n",
              "    }\n",
              "\n",
              "    .dataframe tbody tr th {\n",
              "        vertical-align: top;\n",
              "    }\n",
              "\n",
              "    .dataframe thead th {\n",
              "        text-align: right;\n",
              "    }\n",
              "</style>\n",
              "<table border=\"1\" class=\"dataframe\">\n",
              "  <thead>\n",
              "    <tr style=\"text-align: right;\">\n",
              "      <th></th>\n",
              "      <th>id</th>\n",
              "      <th>date</th>\n",
              "      <th>route_id</th>\n",
              "      <th>vh_id</th>\n",
              "      <th>route_nm</th>\n",
              "      <th>now_latitude</th>\n",
              "      <th>now_longitude</th>\n",
              "      <th>now_station</th>\n",
              "      <th>now_arrive_time</th>\n",
              "      <th>distance</th>\n",
              "      <th>next_station</th>\n",
              "      <th>next_latitude</th>\n",
              "      <th>next_longitude</th>\n",
              "    </tr>\n",
              "  </thead>\n",
              "  <tbody>\n",
              "    <tr>\n",
              "      <th>0</th>\n",
              "      <td>210457</td>\n",
              "      <td>2019-10-29</td>\n",
              "      <td>405136001</td>\n",
              "      <td>7997025</td>\n",
              "      <td>360-1</td>\n",
              "      <td>33.457724</td>\n",
              "      <td>126.554014</td>\n",
              "      <td>제대마을</td>\n",
              "      <td>07시</td>\n",
              "      <td>333.0</td>\n",
              "      <td>제대아파트</td>\n",
              "      <td>33.458783</td>\n",
              "      <td>126.557353</td>\n",
              "    </tr>\n",
              "    <tr>\n",
              "      <th>1</th>\n",
              "      <td>210458</td>\n",
              "      <td>2019-10-29</td>\n",
              "      <td>405136001</td>\n",
              "      <td>7997025</td>\n",
              "      <td>360-1</td>\n",
              "      <td>33.458783</td>\n",
              "      <td>126.557353</td>\n",
              "      <td>제대아파트</td>\n",
              "      <td>07시</td>\n",
              "      <td>415.0</td>\n",
              "      <td>제주대학교</td>\n",
              "      <td>33.459893</td>\n",
              "      <td>126.561624</td>\n",
              "    </tr>\n",
              "    <tr>\n",
              "      <th>2</th>\n",
              "      <td>210459</td>\n",
              "      <td>2019-10-29</td>\n",
              "      <td>405136001</td>\n",
              "      <td>7997025</td>\n",
              "      <td>360-1</td>\n",
              "      <td>33.478867</td>\n",
              "      <td>126.483833</td>\n",
              "      <td>한라중학교/부영아파트</td>\n",
              "      <td>08시</td>\n",
              "      <td>417.0</td>\n",
              "      <td>대림2차아파트</td>\n",
              "      <td>33.478850</td>\n",
              "      <td>126.488350</td>\n",
              "    </tr>\n",
              "    <tr>\n",
              "      <th>3</th>\n",
              "      <td>210460</td>\n",
              "      <td>2019-10-29</td>\n",
              "      <td>405136001</td>\n",
              "      <td>7997025</td>\n",
              "      <td>360-1</td>\n",
              "      <td>33.478850</td>\n",
              "      <td>126.488350</td>\n",
              "      <td>대림2차아파트</td>\n",
              "      <td>08시</td>\n",
              "      <td>334.0</td>\n",
              "      <td>연동대림1차아파트</td>\n",
              "      <td>33.480700</td>\n",
              "      <td>126.489933</td>\n",
              "    </tr>\n",
              "    <tr>\n",
              "      <th>4</th>\n",
              "      <td>210461</td>\n",
              "      <td>2019-10-29</td>\n",
              "      <td>405136001</td>\n",
              "      <td>7997025</td>\n",
              "      <td>360-1</td>\n",
              "      <td>33.480700</td>\n",
              "      <td>126.489933</td>\n",
              "      <td>연동대림1차아파트</td>\n",
              "      <td>08시</td>\n",
              "      <td>550.0</td>\n",
              "      <td>케이티앤지</td>\n",
              "      <td>33.482077</td>\n",
              "      <td>126.485355</td>\n",
              "    </tr>\n",
              "  </tbody>\n",
              "</table>\n",
              "</div>"
            ],
            "text/plain": [
              "       id        date   route_id    vh_id route_nm  now_latitude  \\\n",
              "0  210457  2019-10-29  405136001  7997025    360-1     33.457724   \n",
              "1  210458  2019-10-29  405136001  7997025    360-1     33.458783   \n",
              "2  210459  2019-10-29  405136001  7997025    360-1     33.478867   \n",
              "3  210460  2019-10-29  405136001  7997025    360-1     33.478850   \n",
              "4  210461  2019-10-29  405136001  7997025    360-1     33.480700   \n",
              "\n",
              "   now_longitude  now_station now_arrive_time  distance next_station  \\\n",
              "0     126.554014         제대마을             07시     333.0        제대아파트   \n",
              "1     126.557353        제대아파트             07시     415.0        제주대학교   \n",
              "2     126.483833  한라중학교/부영아파트             08시     417.0      대림2차아파트   \n",
              "3     126.488350      대림2차아파트             08시     334.0    연동대림1차아파트   \n",
              "4     126.489933    연동대림1차아파트             08시     550.0        케이티앤지   \n",
              "\n",
              "   next_latitude  next_longitude  \n",
              "0      33.458783      126.557353  \n",
              "1      33.459893      126.561624  \n",
              "2      33.478850      126.488350  \n",
              "3      33.480700      126.489933  \n",
              "4      33.482077      126.485355  "
            ]
          },
          "execution_count": 9,
          "metadata": {},
          "output_type": "execute_result"
        }
      ],
      "source": [
        "test.___"
      ]
    },
    {
      "cell_type": "markdown",
      "id": "1e5f8a41-ddb4-475f-a760-62f28e40c752",
      "metadata": {
        "id": "1e5f8a41-ddb4-475f-a760-62f28e40c752"
      },
      "source": [
        "### Inst.\n",
        ".head( ) 메소드를 사용하면 데이터의 처음 5행을 선택할 수 있습니다.\n",
        "\n",
        "head는 머리라는 뜻이니까 처음부터 보겠죠?\n",
        "만약 마지막 5행을 보고 싶다면 어떤 메소드가 존재할까요?\n",
        "\n",
        "맞아요 head의 반대인 .tail() 메소드도 존재해요\n",
        "\n",
        ".tail() 메소드는 데이터의 마지막 5행을 보여줘요"
      ]
    },
    {
      "cell_type": "markdown",
      "id": "b955ccfb-1785-4549-8165-1b57764d3f39",
      "metadata": {
        "id": "b955ccfb-1785-4549-8165-1b57764d3f39"
      },
      "source": [
        "### Hint.\n",
        "empty"
      ]
    },
    {
      "cell_type": "markdown",
      "id": "14cb698c-107e-4fb0-a662-2114f5033fd5",
      "metadata": {
        "id": "14cb698c-107e-4fb0-a662-2114f5033fd5"
      },
      "source": [
        "### Solution.\n",
        "test.head(8)"
      ]
    },
    {
      "cell_type": "markdown",
      "id": "753d02f9-0b8e-45d8-85cd-d7fe4d3252b3",
      "metadata": {
        "id": "753d02f9-0b8e-45d8-85cd-d7fe4d3252b3"
      },
      "source": [
        "그럼 info() 메소드를 이용해 데이터 컬럼, 결측치 및 변수들의 타입을 확인해 봅시다."
      ]
    },
    {
      "cell_type": "code",
      "execution_count": null,
      "id": "6e2d6e47-566b-4a47-9993-e03bcef214b2",
      "metadata": {
        "id": "6e2d6e47-566b-4a47-9993-e03bcef214b2"
      },
      "outputs": [],
      "source": [
        "# 데이터 결측치 및 변수들의 타입 확인\n",
        "train.info()"
      ]
    },
    {
      "cell_type": "code",
      "execution_count": null,
      "id": "85693048-9b1a-40ce-8bd2-d4038a0e2068",
      "metadata": {
        "id": "85693048-9b1a-40ce-8bd2-d4038a0e2068"
      },
      "outputs": [],
      "source": [
        "#checkcode\n",
        "#empty"
      ]
    },
    {
      "cell_type": "markdown",
      "id": "2f08992b-a558-4c48-88f2-e7e6fa41f61f",
      "metadata": {
        "id": "2f08992b-a558-4c48-88f2-e7e6fa41f61f"
      },
      "source": [
        "### Inst.\n",
        "\n",
        ".info( ) 메소드를 활용하면 데이터의 컬럼명과 타입, 결측치의 개수를 알 수 있습니다."
      ]
    },
    {
      "cell_type": "markdown",
      "id": "fa997dab-b3a1-4ef0-9bc1-dd36fcf410c2",
      "metadata": {
        "id": "fa997dab-b3a1-4ef0-9bc1-dd36fcf410c2"
      },
      "source": [
        "### Hint.\n",
        "empty"
      ]
    },
    {
      "cell_type": "markdown",
      "id": "1817273d-1590-4829-a91f-d4a85c1a5f9a",
      "metadata": {
        "id": "1817273d-1590-4829-a91f-d4a85c1a5f9a"
      },
      "source": [
        "### Solution.\n",
        "empty"
      ]
    },
    {
      "cell_type": "markdown",
      "id": "7ad667df-aa47-438c-9b6b-6cece776cbbf",
      "metadata": {
        "id": "7ad667df-aa47-438c-9b6b-6cece776cbbf"
      },
      "source": [
        "데이터를 살펴보니 총 65개의 열(피처)이 있네요. 65개나 되기 때문에 하나하나 살펴보진 못하지만 열의 이름으로 축구 선수 한명 한명의 고유 Ability임을 알 수 있어요!\n",
        "\n",
        "가볍게 한 번 살펴볼까요?\n",
        "\n",
        "1. id : 해당 데이터에서의 고유한 ID\n",
        "2. Age : 나이\n",
        "3. Height : 키\n",
        "4. Weight : 체중\n",
        "\n",
        "위 와 같은 데이터들은 축구 선수 한명의 고유 신체 스펙이겠죠?\n",
        "\n",
        "그리고 나머지는 \n",
        "5. PassingTotal : 버스 노선 실제 번호\n",
        "6. DribblingTotal : 현재 정류소의 위도\n",
        "\n",
        "와 같은 축구 능력에 대한 데이터들이에요!\n",
        "\n",
        "마지막으로 제일 중요한\n",
        "\n",
        "7. Prospect : 유망 여부\n",
        "\n",
        "는 인공지능을 통해 예측해야하는 데이터에요!\n",
        "\n",
        "이렇게 총 65개의 열(변수)와 3019개의 행으로 이루어져 있습니다.\n",
        "또한 Non-Null Count를 살펴보면 모든 변수에서 결측치(누락된 데이터)는 존재하지 않는 것을 알 수 있습니다.    \n",
        "만약 결측치가 존재한다면 보다 정확한 모델을 설계하기 위해 결측치를 적절하게 처리해 주어야 합니다.\n",
        "\n",
        "그럼 test 데이터도 한번 살펴보도록 하죠!"
      ]
    },
    {
      "cell_type": "code",
      "execution_count": null,
      "id": "yFlGR-aiMugH",
      "metadata": {
        "id": "yFlGR-aiMugH"
      },
      "outputs": [],
      "source": [
        "test.___"
      ]
    },
    {
      "cell_type": "code",
      "execution_count": null,
      "id": "64ca03ab-1090-425d-84ab-1940e9006464",
      "metadata": {
        "id": "64ca03ab-1090-425d-84ab-1940e9006464"
      },
      "outputs": [],
      "source": [
        "#checkcode\n",
        "#empty"
      ]
    },
    {
      "cell_type": "code",
      "execution_count": 17,
      "id": "i2EFat4IM8FC",
      "metadata": {
        "colab": {
          "base_uri": "https://localhost:8080/"
        },
        "id": "i2EFat4IM8FC",
        "outputId": "f1e1910d-27f0-4481-b286-5a039a843b28"
      },
      "outputs": [
        {
          "name": "stdout",
          "output_type": "stream",
          "text": [
            "<class 'pandas.core.frame.DataFrame'>\n",
            "RangeIndex: 1626 entries, 0 to 1625\n",
            "Data columns (total 65 columns):\n",
            " #   Column             Non-Null Count  Dtype  \n",
            "---  ------             --------------  -----  \n",
            " 0   ID                 1626 non-null   object \n",
            " 1   Age                1626 non-null   int64  \n",
            " 2   Height             1626 non-null   int64  \n",
            " 3   Weight             1626 non-null   int64  \n",
            " 4   Position           1626 non-null   object \n",
            " 5   PreferredFoot      1626 non-null   object \n",
            " 6   AttackingWorkRate  1626 non-null   object \n",
            " 7   DefensiveWorkRate  1626 non-null   object \n",
            " 8   PaceTotal          1626 non-null   float64\n",
            " 9   ShootingTotal      1626 non-null   float64\n",
            " 10  PassingTotal       1626 non-null   float64\n",
            " 11  DribblingTotal     1626 non-null   float64\n",
            " 12  DefendingTotal     1626 non-null   float64\n",
            " 13  PhysicalityTotal   1626 non-null   float64\n",
            " 14  Crossing           1626 non-null   float64\n",
            " 15  Finishing          1626 non-null   float64\n",
            " 16  HeadingAccuracy    1626 non-null   float64\n",
            " 17  ShortPassing       1626 non-null   float64\n",
            " 18  Volleys            1626 non-null   float64\n",
            " 19  Dribbling          1626 non-null   float64\n",
            " 20  Curve              1626 non-null   float64\n",
            " 21  FKAccuracy         1626 non-null   float64\n",
            " 22  LongPassing        1626 non-null   float64\n",
            " 23  BallControl        1626 non-null   float64\n",
            " 24  Acceleration       1626 non-null   float64\n",
            " 25  SprintSpeed        1626 non-null   float64\n",
            " 26  Agility            1626 non-null   float64\n",
            " 27  Reactions          1626 non-null   float64\n",
            " 28  Balance            1626 non-null   float64\n",
            " 29  ShotPower          1626 non-null   float64\n",
            " 30  Jumping            1626 non-null   float64\n",
            " 31  Stamina            1626 non-null   float64\n",
            " 32  Strength           1626 non-null   float64\n",
            " 33  LongShots          1626 non-null   float64\n",
            " 34  Aggression         1626 non-null   float64\n",
            " 35  Interceptions      1626 non-null   float64\n",
            " 36  Positioning        1626 non-null   float64\n",
            " 37  Vision             1626 non-null   float64\n",
            " 38  Penalties          1626 non-null   float64\n",
            " 39  Composure          1626 non-null   float64\n",
            " 40  Marking            1626 non-null   float64\n",
            " 41  StandingTackle     1626 non-null   float64\n",
            " 42  SlidingTackle      1626 non-null   float64\n",
            " 43  GKDiving           1626 non-null   float64\n",
            " 44  GKHandling         1626 non-null   float64\n",
            " 45  GKKicking          1626 non-null   float64\n",
            " 46  GKPositioning      1626 non-null   float64\n",
            " 47  GKReflexes         1626 non-null   float64\n",
            " 48  STRating           1626 non-null   float64\n",
            " 49  LWRating           1626 non-null   float64\n",
            " 50  LFRating           1626 non-null   float64\n",
            " 51  CFRating           1626 non-null   float64\n",
            " 52  RFRating           1626 non-null   float64\n",
            " 53  RWRating           1626 non-null   float64\n",
            " 54  CAMRating          1626 non-null   float64\n",
            " 55  LMRating           1626 non-null   float64\n",
            " 56  CMRating           1626 non-null   float64\n",
            " 57  RMRating           1626 non-null   float64\n",
            " 58  LWBRating          1626 non-null   float64\n",
            " 59  CDMRating          1626 non-null   float64\n",
            " 60  RWBRating          1626 non-null   float64\n",
            " 61  LBRating           1626 non-null   float64\n",
            " 62  CBRating           1626 non-null   float64\n",
            " 63  RBRating           1626 non-null   float64\n",
            " 64  GKRating           1626 non-null   float64\n",
            "dtypes: float64(57), int64(3), object(5)\n",
            "memory usage: 825.8+ KB\n"
          ]
        }
      ],
      "source": [
        "test.info()"
      ]
    },
    {
      "cell_type": "markdown",
      "id": "PY0orlcdMykk",
      "metadata": {
        "id": "PY0orlcdMykk"
      },
      "source": [
        "### Solution.\n",
        "test.info()"
      ]
    },
    {
      "cell_type": "markdown",
      "id": "e6f069cb-0ecb-43ac-97a9-bc9a0421df48",
      "metadata": {
        "id": "e6f069cb-0ecb-43ac-97a9-bc9a0421df48"
      },
      "source": [
        "test 데이터에는 train 데이터에서 `Prospect` 열이 빠진 총 64개의 열이 존재하네요.\n",
        "\n",
        "이번 분석은 **Prospect, 즉 축구 선수의 유망 여부를** 예측하는 문제라고 파악할 수 있습니다!\n",
        "\n",
        "마지막으로 submission 데이터도 한번 살펴보도록 합시다.\n",
        "\n",
        "submission 데이터는 test 데이터를 통해 예측해야하는 `Prospect`의 값이 들어가야 해요\n",
        "\n",
        "그렇다면 test 데이터와 submission의 데이터의 행 길이는 같아야겠죠?\n",
        "\n",
        "행 길이를 확인할 수 있는 len() 메소드를 알아봐요"
      ]
    },
    {
      "cell_type": "code",
      "execution_count": 19,
      "id": "Mpc6LNaEOF-G",
      "metadata": {
        "colab": {
          "base_uri": "https://localhost:8080/"
        },
        "id": "Mpc6LNaEOF-G",
        "outputId": "7e8ceea4-383e-45bc-8ca7-26d50870a35b"
      },
      "outputs": [
        {
          "data": {
            "text/plain": [
              "1626"
            ]
          },
          "execution_count": 19,
          "metadata": {},
          "output_type": "execute_result"
        }
      ],
      "source": [
        "len(test)"
      ]
    },
    {
      "cell_type": "code",
      "execution_count": 18,
      "id": "e1a950ec-d080-4fee-9af6-331c8fc4f39f",
      "metadata": {
        "colab": {
          "base_uri": "https://localhost:8080/"
        },
        "id": "e1a950ec-d080-4fee-9af6-331c8fc4f39f",
        "outputId": "6141ed00-499a-4a0e-a593-4708074b9677"
      },
      "outputs": [
        {
          "data": {
            "text/plain": [
              "1626"
            ]
          },
          "execution_count": 18,
          "metadata": {},
          "output_type": "execute_result"
        }
      ],
      "source": [
        "len(submission)"
      ]
    },
    {
      "cell_type": "code",
      "execution_count": null,
      "id": "cb01dad4-0d06-48c6-b350-98e70981f81a",
      "metadata": {
        "id": "cb01dad4-0d06-48c6-b350-98e70981f81a"
      },
      "outputs": [],
      "source": [
        "#checkcode\n",
        "#empty"
      ]
    },
    {
      "cell_type": "markdown",
      "id": "b1bda525-c4e1-4b39-963e-40736ec0b648",
      "metadata": {
        "id": "b1bda525-c4e1-4b39-963e-40736ec0b648"
      },
      "source": [
        "### Inst.\n",
        "len() 메소드를 사용하면 해당 데이터의 행 길이를 알 수 있어요"
      ]
    },
    {
      "cell_type": "markdown",
      "id": "59892701-5d4a-4a4f-94cc-23b0d68c0083",
      "metadata": {
        "id": "59892701-5d4a-4a4f-94cc-23b0d68c0083"
      },
      "source": [
        "### Hint.\n",
        "empty"
      ]
    },
    {
      "cell_type": "markdown",
      "id": "ef325975-d6b8-407e-8d9d-e6b4ff3e958c",
      "metadata": {
        "id": "ef325975-d6b8-407e-8d9d-e6b4ff3e958c"
      },
      "source": [
        "### Solution.\n",
        "empty"
      ]
    },
    {
      "attachments": {},
      "cell_type": "markdown",
      "id": "b5ec71b2-5c90-4310-b8ef-538907d43100",
      "metadata": {
        "id": "b5ec71b2-5c90-4310-b8ef-538907d43100"
      },
      "source": [
        "# 3. 제출 파일 생성 및 제출\n",
        "\n",
        "앞서 sample_submission.csv 파일을 간단히 소개했어요.\n",
        "\n",
        "submission 파일은 test 데이터를 예측한 값이 들어가야 하니까 예측한 값이 정확한지 평가를 받는 답안지라고 생각하면 돼요\n",
        "\n",
        "그렇다면 이 제출 파일에 정답값을 채워 저장하는 방법을 알아야겠죠?\n",
        "\n",
        "먼저 간단하게 제출 파일에 1이라는 값을 넣고 저장을 해봐요!"
      ]
    },
    {
      "cell_type": "code",
      "execution_count": 21,
      "id": "ab638f86-abea-4dd2-ab33-f2e979b32672",
      "metadata": {
        "colab": {
          "base_uri": "https://localhost:8080/",
          "height": 206
        },
        "id": "ab638f86-abea-4dd2-ab33-f2e979b32672",
        "outputId": "445ccaf7-743c-4cb9-d1ce-4b79ac2a16b2"
      },
      "outputs": [
        {
          "data": {
            "text/html": [
              "\n",
              "  <div id=\"df-64557810-e38a-41e2-854e-0e268499bbab\">\n",
              "    <div class=\"colab-df-container\">\n",
              "      <div>\n",
              "<style scoped>\n",
              "    .dataframe tbody tr th:only-of-type {\n",
              "        vertical-align: middle;\n",
              "    }\n",
              "\n",
              "    .dataframe tbody tr th {\n",
              "        vertical-align: top;\n",
              "    }\n",
              "\n",
              "    .dataframe thead th {\n",
              "        text-align: right;\n",
              "    }\n",
              "</style>\n",
              "<table border=\"1\" class=\"dataframe\">\n",
              "  <thead>\n",
              "    <tr style=\"text-align: right;\">\n",
              "      <th></th>\n",
              "      <th>ID</th>\n",
              "      <th>Prospect</th>\n",
              "    </tr>\n",
              "  </thead>\n",
              "  <tbody>\n",
              "    <tr>\n",
              "      <th>0</th>\n",
              "      <td>TEST_0000</td>\n",
              "      <td>1</td>\n",
              "    </tr>\n",
              "    <tr>\n",
              "      <th>1</th>\n",
              "      <td>TEST_0001</td>\n",
              "      <td>1</td>\n",
              "    </tr>\n",
              "    <tr>\n",
              "      <th>2</th>\n",
              "      <td>TEST_0002</td>\n",
              "      <td>1</td>\n",
              "    </tr>\n",
              "    <tr>\n",
              "      <th>3</th>\n",
              "      <td>TEST_0003</td>\n",
              "      <td>1</td>\n",
              "    </tr>\n",
              "    <tr>\n",
              "      <th>4</th>\n",
              "      <td>TEST_0004</td>\n",
              "      <td>1</td>\n",
              "    </tr>\n",
              "  </tbody>\n",
              "</table>\n",
              "</div>\n",
              "      <button class=\"colab-df-convert\" onclick=\"convertToInteractive('df-64557810-e38a-41e2-854e-0e268499bbab')\"\n",
              "              title=\"Convert this dataframe to an interactive table.\"\n",
              "              style=\"display:none;\">\n",
              "        \n",
              "  <svg xmlns=\"http://www.w3.org/2000/svg\" height=\"24px\"viewBox=\"0 0 24 24\"\n",
              "       width=\"24px\">\n",
              "    <path d=\"M0 0h24v24H0V0z\" fill=\"none\"/>\n",
              "    <path d=\"M18.56 5.44l.94 2.06.94-2.06 2.06-.94-2.06-.94-.94-2.06-.94 2.06-2.06.94zm-11 1L8.5 8.5l.94-2.06 2.06-.94-2.06-.94L8.5 2.5l-.94 2.06-2.06.94zm10 10l.94 2.06.94-2.06 2.06-.94-2.06-.94-.94-2.06-.94 2.06-2.06.94z\"/><path d=\"M17.41 7.96l-1.37-1.37c-.4-.4-.92-.59-1.43-.59-.52 0-1.04.2-1.43.59L10.3 9.45l-7.72 7.72c-.78.78-.78 2.05 0 2.83L4 21.41c.39.39.9.59 1.41.59.51 0 1.02-.2 1.41-.59l7.78-7.78 2.81-2.81c.8-.78.8-2.07 0-2.86zM5.41 20L4 18.59l7.72-7.72 1.47 1.35L5.41 20z\"/>\n",
              "  </svg>\n",
              "      </button>\n",
              "      \n",
              "  <style>\n",
              "    .colab-df-container {\n",
              "      display:flex;\n",
              "      flex-wrap:wrap;\n",
              "      gap: 12px;\n",
              "    }\n",
              "\n",
              "    .colab-df-convert {\n",
              "      background-color: #E8F0FE;\n",
              "      border: none;\n",
              "      border-radius: 50%;\n",
              "      cursor: pointer;\n",
              "      display: none;\n",
              "      fill: #1967D2;\n",
              "      height: 32px;\n",
              "      padding: 0 0 0 0;\n",
              "      width: 32px;\n",
              "    }\n",
              "\n",
              "    .colab-df-convert:hover {\n",
              "      background-color: #E2EBFA;\n",
              "      box-shadow: 0px 1px 2px rgba(60, 64, 67, 0.3), 0px 1px 3px 1px rgba(60, 64, 67, 0.15);\n",
              "      fill: #174EA6;\n",
              "    }\n",
              "\n",
              "    [theme=dark] .colab-df-convert {\n",
              "      background-color: #3B4455;\n",
              "      fill: #D2E3FC;\n",
              "    }\n",
              "\n",
              "    [theme=dark] .colab-df-convert:hover {\n",
              "      background-color: #434B5C;\n",
              "      box-shadow: 0px 1px 3px 1px rgba(0, 0, 0, 0.15);\n",
              "      filter: drop-shadow(0px 1px 2px rgba(0, 0, 0, 0.3));\n",
              "      fill: #FFFFFF;\n",
              "    }\n",
              "  </style>\n",
              "\n",
              "      <script>\n",
              "        const buttonEl =\n",
              "          document.querySelector('#df-64557810-e38a-41e2-854e-0e268499bbab button.colab-df-convert');\n",
              "        buttonEl.style.display =\n",
              "          google.colab.kernel.accessAllowed ? 'block' : 'none';\n",
              "\n",
              "        async function convertToInteractive(key) {\n",
              "          const element = document.querySelector('#df-64557810-e38a-41e2-854e-0e268499bbab');\n",
              "          const dataTable =\n",
              "            await google.colab.kernel.invokeFunction('convertToInteractive',\n",
              "                                                     [key], {});\n",
              "          if (!dataTable) return;\n",
              "\n",
              "          const docLinkHtml = 'Like what you see? Visit the ' +\n",
              "            '<a target=\"_blank\" href=https://colab.research.google.com/notebooks/data_table.ipynb>data table notebook</a>'\n",
              "            + ' to learn more about interactive tables.';\n",
              "          element.innerHTML = '';\n",
              "          dataTable['output_type'] = 'display_data';\n",
              "          await google.colab.output.renderOutput(dataTable, element);\n",
              "          const docLink = document.createElement('div');\n",
              "          docLink.innerHTML = docLinkHtml;\n",
              "          element.appendChild(docLink);\n",
              "        }\n",
              "      </script>\n",
              "    </div>\n",
              "  </div>\n",
              "  "
            ],
            "text/plain": [
              "          ID  Prospect\n",
              "0  TEST_0000         1\n",
              "1  TEST_0001         1\n",
              "2  TEST_0002         1\n",
              "3  TEST_0003         1\n",
              "4  TEST_0004         1"
            ]
          },
          "execution_count": 21,
          "metadata": {},
          "output_type": "execute_result"
        }
      ],
      "source": [
        "# 예측해야하는 데이터는 Prospect임을 잊지 않았죠?\n",
        "submission['Prospect'] = 1\n",
        "submission.head()"
      ]
    },
    {
      "cell_type": "code",
      "execution_count": null,
      "id": "164036bc-aaa6-4ca3-8d68-52ab3a2eba9e",
      "metadata": {
        "id": "164036bc-aaa6-4ca3-8d68-52ab3a2eba9e"
      },
      "outputs": [],
      "source": [
        "#checkcode\n",
        "#empty"
      ]
    },
    {
      "cell_type": "markdown",
      "id": "afdfb273-8d78-4157-91f0-b7e6026bf7a9",
      "metadata": {
        "id": "afdfb273-8d78-4157-91f0-b7e6026bf7a9"
      },
      "source": [
        "### Inst.\n",
        "\n",
        "예측 정답지를 1로 채워보아요"
      ]
    },
    {
      "cell_type": "markdown",
      "id": "d98b679f-7e7d-4906-aa46-891bf9320d05",
      "metadata": {
        "id": "d98b679f-7e7d-4906-aa46-891bf9320d05"
      },
      "source": [
        "### Hint.\n",
        "empty"
      ]
    },
    {
      "cell_type": "markdown",
      "id": "f89f6566-14f3-43cc-b706-7a2546d77f4e",
      "metadata": {
        "id": "f89f6566-14f3-43cc-b706-7a2546d77f4e"
      },
      "source": [
        "### Solution.\n",
        "empty"
      ]
    },
    {
      "cell_type": "markdown",
      "id": "1d2f6e27-a91d-450a-aaf5-3d40436e49cf",
      "metadata": {
        "id": "1d2f6e27-a91d-450a-aaf5-3d40436e49cf"
      },
      "source": [
        "[문제 3]  \n",
        "submission의 예측값을 1로 채웠었어요.\n",
        "\n",
        "이 값을 다시 0으로 바꿔볼까요?"
      ]
    },
    {
      "cell_type": "code",
      "execution_count": null,
      "id": "6b97f4c5-24a7-4081-8361-5e5b4a401324",
      "metadata": {
        "id": "6b97f4c5-24a7-4081-8361-5e5b4a401324",
        "outputId": "ccb4652f-94c7-443d-a321-2cda656bde38"
      },
      "outputs": [
        {
          "data": {
            "text/html": [
              "<div>\n",
              "<style scoped>\n",
              "    .dataframe tbody tr th:only-of-type {\n",
              "        vertical-align: middle;\n",
              "    }\n",
              "\n",
              "    .dataframe tbody tr th {\n",
              "        vertical-align: top;\n",
              "    }\n",
              "\n",
              "    .dataframe thead th {\n",
              "        text-align: right;\n",
              "    }\n",
              "</style>\n",
              "<table border=\"1\" class=\"dataframe\">\n",
              "  <thead>\n",
              "    <tr style=\"text-align: right;\">\n",
              "      <th></th>\n",
              "      <th>id</th>\n",
              "      <th>next_arrive_time</th>\n",
              "    </tr>\n",
              "  </thead>\n",
              "  <tbody>\n",
              "    <tr>\n",
              "      <th>0</th>\n",
              "      <td>210457</td>\n",
              "      <td>85</td>\n",
              "    </tr>\n",
              "    <tr>\n",
              "      <th>1</th>\n",
              "      <td>210458</td>\n",
              "      <td>85</td>\n",
              "    </tr>\n",
              "    <tr>\n",
              "      <th>2</th>\n",
              "      <td>210459</td>\n",
              "      <td>85</td>\n",
              "    </tr>\n",
              "    <tr>\n",
              "      <th>3</th>\n",
              "      <td>210460</td>\n",
              "      <td>85</td>\n",
              "    </tr>\n",
              "    <tr>\n",
              "      <th>4</th>\n",
              "      <td>210461</td>\n",
              "      <td>85</td>\n",
              "    </tr>\n",
              "  </tbody>\n",
              "</table>\n",
              "</div>"
            ],
            "text/plain": [
              "       id  next_arrive_time\n",
              "0  210457                85\n",
              "1  210458                85\n",
              "2  210459                85\n",
              "3  210460                85\n",
              "4  210461                85"
            ]
          },
          "execution_count": 16,
          "metadata": {},
          "output_type": "execute_result"
        }
      ],
      "source": [
        "submission___"
      ]
    },
    {
      "cell_type": "code",
      "execution_count": 27,
      "id": "b4429dd7-3b70-43e5-96c8-9aecec2dcd7c",
      "metadata": {
        "colab": {
          "base_uri": "https://localhost:8080/"
        },
        "id": "b4429dd7-3b70-43e5-96c8-9aecec2dcd7c",
        "outputId": "8b0a0e9b-6e98-4567-80cb-250f247922fe"
      },
      "outputs": [
        {
          "data": {
            "text/plain": [
              "True"
            ]
          },
          "execution_count": 27,
          "metadata": {},
          "output_type": "execute_result"
        }
      ],
      "source": [
        "#checkcode\n",
        "def check(submission = submission):\n",
        "    if submission['Prospect'].loc[0] == 0:\n",
        "        return True\n",
        "    else :\n",
        "        return False\n",
        "\n",
        "check()"
      ]
    },
    {
      "cell_type": "markdown",
      "id": "33f66b2a-fa5a-4f7f-95d1-2440689b7753",
      "metadata": {
        "id": "33f66b2a-fa5a-4f7f-95d1-2440689b7753"
      },
      "source": [
        "### Inst.\n",
        "\n",
        "submission 의 \"Prospect\"를 0으로 채워 보세요!"
      ]
    },
    {
      "cell_type": "markdown",
      "id": "7ea05936-4e4a-49ca-83ca-f0f4f349a665",
      "metadata": {
        "id": "7ea05936-4e4a-49ca-83ca-f0f4f349a665"
      },
      "source": [
        "### Hint.\n",
        "\n",
        "submission['컬럼명'] = 지정 값"
      ]
    },
    {
      "cell_type": "markdown",
      "id": "279efc7e-ad54-4479-8753-17686d429167",
      "metadata": {
        "id": "279efc7e-ad54-4479-8753-17686d429167"
      },
      "source": [
        "### Solution.\n",
        "\n",
        "submission['Prospect'] = 0"
      ]
    },
    {
      "cell_type": "markdown",
      "id": "8b55f6f1-988a-4fc7-8447-f513c10f72f8",
      "metadata": {
        "id": "8b55f6f1-988a-4fc7-8447-f513c10f72f8"
      },
      "source": [
        "# 4. CSV 파일 저장하기\n",
        "\n",
        "submission의 `Prospect` 값을 0으로 잘 채우셨나요?\n",
        "\n",
        "이제 submission을 가지고 to_csv 메소드를 이용하여 제출용 파일 **submission.csv**을 생성해 보겠습니다.     \n",
        "아래와 같이 말이죠!\n",
        "\n",
        "\n",
        "<font color=red>submission</font><font color=orange>.to_csv</font><font color=black>(</font><font color=green>'beseline.csv',</font><font color=blue>index=False</font><font color=black>)</font>\n",
        "\n",
        "각 기능을 색깔로 구별해 볼까요? </br>\n",
        "\n",
        "<font color=red>데이터셋이 있는 객체명</font><font color=orange>.객체가 가지고 있는 csv 파일 생성용 매소드(함수)</font><font color=black>(</font><font color=green>저장할 파일의 이름과 확장자,</font><font color=blue>인덱스를 설정하지 않겠음(False)</font><font color=black>)</font>"
      ]
    },
    {
      "cell_type": "code",
      "execution_count": null,
      "id": "b39f1dff-26ef-4ff1-9fea-6e11c656d8a5",
      "metadata": {
        "id": "b39f1dff-26ef-4ff1-9fea-6e11c656d8a5"
      },
      "outputs": [],
      "source": [
        "submission.to_csv('submission.csv', index=False)"
      ]
    },
    {
      "cell_type": "code",
      "execution_count": null,
      "id": "506b2723-8406-43c6-b17c-4608f84bb23a",
      "metadata": {
        "id": "506b2723-8406-43c6-b17c-4608f84bb23a"
      },
      "outputs": [],
      "source": [
        "#checkcode\n",
        "#empty\n",
        "%reset -f"
      ]
    },
    {
      "cell_type": "markdown",
      "id": "98a68c42-e698-4a7d-a99f-7c69083086f9",
      "metadata": {
        "id": "98a68c42-e698-4a7d-a99f-7c69083086f9"
      },
      "source": [
        "### Inst.\n",
        "기본적으로 \".to_csv\" 메소드는 데이터프레임(ex. submission) 객체의 내용을 csv 파일 형태로 만들어 저장해 주는 기능입니다. </br>\n",
        "이렇게 해야 비로소 파이썬 안에서 작업한 내용이 파이썬 밖으로 빠져나가 여러분이 만질 수 있는 형태가 되는 거죠! </br>\n",
        "이처럼 파일을 불러서 처리한 후, 저장하는 일련의 과정을 \"데이터 i/o(input/output)를 처리한다\" 라고 합니다. </br> \n",
        "\n",
        "그럼 to_csv 메소드를 이용하여 submission 객체의 내용을 csv 파일 형태로 만들어 주고,   \n",
        "index=False를 하여 추가적인 인덱스 설정을 하지 말아 보겠습니다.    \n",
        "(정확한 채점을 위해서는 index=False를 꼭 넣어 주어야 합니다!!!)"
      ]
    },
    {
      "cell_type": "markdown",
      "id": "d64c1e68-a63a-46d2-af4a-6c0f94a9c2ae",
      "metadata": {
        "id": "d64c1e68-a63a-46d2-af4a-6c0f94a9c2ae"
      },
      "source": [
        "### Hint.\n",
        "empty"
      ]
    },
    {
      "cell_type": "markdown",
      "id": "3d44800c-7efd-4f86-96c3-fa231cbcc95f",
      "metadata": {
        "id": "3d44800c-7efd-4f86-96c3-fa231cbcc95f"
      },
      "source": [
        "### Solution.\n",
        "empty"
      ]
    },
    {
      "cell_type": "markdown",
      "id": "Wyp6rkX_QBev",
      "metadata": {
        "id": "Wyp6rkX_QBev"
      },
      "source": [
        "\n",
        "[문제 4]  \n",
        "submission을 csv 파일 형태로 저장을 해 보았어요.\n",
        "\n",
        "이 csv 파일 이름을 `step_1_clear` 로 바꿔서 다시 저장을 해볼까요?"
      ]
    },
    {
      "cell_type": "code",
      "execution_count": null,
      "id": "IkX_AxwHQWbd",
      "metadata": {
        "id": "IkX_AxwHQWbd"
      },
      "outputs": [],
      "source": [
        "submission.___"
      ]
    },
    {
      "cell_type": "code",
      "execution_count": 28,
      "id": "HixKrawDQnNS",
      "metadata": {
        "id": "HixKrawDQnNS"
      },
      "outputs": [],
      "source": [
        "submission.to_csv('step_1_clear.csv',index=False)"
      ]
    },
    {
      "cell_type": "code",
      "execution_count": 30,
      "id": "2SMbSHygQaTz",
      "metadata": {
        "colab": {
          "base_uri": "https://localhost:8080/"
        },
        "id": "2SMbSHygQaTz",
        "outputId": "2a9b2a80-a103-4418-febc-f1ea68cfdb14"
      },
      "outputs": [
        {
          "data": {
            "text/plain": [
              "True"
            ]
          },
          "execution_count": 30,
          "metadata": {},
          "output_type": "execute_result"
        }
      ],
      "source": [
        "#checkcode\n",
        "def check(submission2 = pd.read_csv('step_1_clear.csv')):\n",
        "    if submission2.equals(submission):\n",
        "        return True\n",
        "    else :\n",
        "        return False\n",
        "\n",
        "check()"
      ]
    },
    {
      "cell_type": "markdown",
      "id": "z4mvArqxQY4N",
      "metadata": {
        "id": "z4mvArqxQY4N"
      },
      "source": [
        "### Inst.\n",
        "submission 파일을 원하는 이름으로 저장해보아요"
      ]
    },
    {
      "cell_type": "markdown",
      "id": "r0MPuo0PRNA-",
      "metadata": {
        "id": "r0MPuo0PRNA-"
      },
      "source": [
        "### Hint.\n",
        "'원하는 이름.csv'"
      ]
    },
    {
      "cell_type": "markdown",
      "id": "NadofAreRR1v",
      "metadata": {
        "id": "NadofAreRR1v"
      },
      "source": [
        "### Solution.\n",
        "submission.to_csv('step_1_clear.csv',index=False)"
      ]
    }
  ],
  "metadata": {
    "colab": {
      "provenance": []
    },
    "kernelspec": {
      "display_name": "sesang",
      "language": "python",
      "name": "sesang"
    },
    "language_info": {
      "codemirror_mode": {
        "name": "ipython",
        "version": 3
      },
      "file_extension": ".py",
      "mimetype": "text/x-python",
      "name": "python",
      "nbconvert_exporter": "python",
      "pygments_lexer": "ipython3",
      "version": "3.10.5"
    }
  },
  "nbformat": 4,
  "nbformat_minor": 5
}
